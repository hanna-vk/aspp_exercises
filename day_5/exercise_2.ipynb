{
 "cells": [
  {
   "cell_type": "code",
   "execution_count": 2,
   "id": "f71874fc-67b2-4b27-985f-74e84cb7e42f",
   "metadata": {},
   "outputs": [],
   "source": [
    "import numpy as np\n",
    "import pandas as pd\n",
    "import matplotlib.pyplot as plt"
   ]
  },
  {
   "cell_type": "markdown",
   "id": "4a89d5bc-a080-40d6-b8ab-9a8f74dc790c",
   "metadata": {},
   "source": [
    "## 2. Pandas\n",
    "#### a. Download the notebook food_facts.ipynb and learn how to load and display data with Pandas"
   ]
  },
  {
   "cell_type": "code",
   "execution_count": 4,
   "id": "404b7101-70cb-41d8-b58e-2aa99729a8a0",
   "metadata": {},
   "outputs": [
    {
     "data": {
      "text/plain": [
       "array([[ 1, -2,  3],\n",
       "       [ 4,  5,  6],\n",
       "       [ 7,  1,  9]])"
      ]
     },
     "execution_count": 4,
     "metadata": {},
     "output_type": "execute_result"
    }
   ],
   "source": []
  },
  {
   "cell_type": "markdown",
   "id": "44da010e-be14-485b-a2ec-fd29072266e4",
   "metadata": {},
   "source": [
    "#### b. Download the notebook [army.ipynb](army.ipynb) and try yourself to use Pandas for filtering and sorting of data"
   ]
  },
  {
   "cell_type": "code",
   "execution_count": 6,
   "id": "e91c5cea-1683-4083-bb3a-35b7ebe1e874",
   "metadata": {},
   "outputs": [
    {
     "data": {
      "text/plain": [
       "array([1, 2, 3])"
      ]
     },
     "execution_count": 6,
     "metadata": {},
     "output_type": "execute_result"
    }
   ],
   "source": []
  },
  {
   "cell_type": "markdown",
   "id": "6ddb79ae-3d78-403c-882e-2548b98dbf66",
   "metadata": {},
   "source": [
    "#### c. Download the notebook [alcohol.ipynb](alcohol.ipynb) and try yourself to use Pandas for grouping of data"
   ]
  },
  {
   "cell_type": "code",
   "execution_count": 8,
   "id": "a21a655a-437d-47c9-961c-dbccc19fe1bc",
   "metadata": {},
   "outputs": [],
   "source": []
  },
  {
   "cell_type": "code",
   "execution_count": 22,
   "id": "fbdcc43b-0c48-4af6-abae-988552b3c9cd",
   "metadata": {},
   "outputs": [
    {
     "name": "stdout",
     "output_type": "stream",
     "text": [
      "Norm of A:\n",
      " 14.90\n",
      "Nuclear norm of A:\n",
      " 19.69\n",
      "First order norm of A:\n",
      " 18.00\n",
      "Second order norm of A:\n",
      " 14.17\n"
     ]
    }
   ],
   "source": [
    "norm_A = linalg.norm(A)\n",
    "print('Norm of A:\\n %.2f' %norm_A)\n",
    "\n",
    "norm_A = linalg.norm(A,'nuc')\n",
    "print('Nuclear norm of A:\\n %.2f' %norm_A)\n",
    "\n",
    "norm_A = linalg.norm(A,1)\n",
    "print('First order norm of A:\\n %.2f' %norm_A)\n",
    "\n",
    "norm_A = linalg.norm(A,2)\n",
    "print('Second order norm of A:\\n %.2f' %norm_A)"
   ]
  }
 ],
 "metadata": {
  "kernelspec": {
   "display_name": "Python [conda env:anaconda3] *",
   "language": "python",
   "name": "conda-env-anaconda3-py"
  },
  "language_info": {
   "codemirror_mode": {
    "name": "ipython",
    "version": 3
   },
   "file_extension": ".py",
   "mimetype": "text/x-python",
   "name": "python",
   "nbconvert_exporter": "python",
   "pygments_lexer": "ipython3",
   "version": "3.12.7"
  }
 },
 "nbformat": 4,
 "nbformat_minor": 5
}
