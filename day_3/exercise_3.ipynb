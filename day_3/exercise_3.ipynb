{
 "cells": [
  {
   "cell_type": "markdown",
   "id": "c7153844-c27d-4a59-85e3-352cab5c4c8c",
   "metadata": {},
   "source": [
    "3. Revisit the matmult.py example from yesterday and improve its performance using Numpy."
   ]
  },
  {
   "cell_type": "code",
   "execution_count": 3,
   "id": "7c076eee-8ff3-4604-85c5-7dd09658f148",
   "metadata": {},
   "outputs": [
    {
     "name": "stdout",
     "output_type": "stream",
     "text": [
      "[[644573 639487 595093 ... 616357 668578 612211]\n",
      " [605925 610807 575754 ... 564803 638847 607196]\n",
      " [632048 628440 611944 ... 593809 650891 621690]\n",
      " ...\n",
      " [603667 630364 609350 ... 601280 661338 596240]\n",
      " [641565 639275 611087 ... 584072 680642 614673]\n",
      " [661541 659412 637983 ... 620670 702126 655501]]\n"
     ]
    }
   ],
   "source": [
    "import numpy as np\n",
    "\n",
    "def mat_mult(N):\n",
    "    # Generate random matrices\n",
    "    X = np.random.randint(0, 100, (N, N))\n",
    "    Y = np.random.randint(0, 100, (N, N + 1))\n",
    "    \n",
    "    # Matrix multiplication\n",
    "    result = np.dot(X, Y)\n",
    "    return result\n",
    "\n",
    "N = 250\n",
    "result = mat_mult(N)\n",
    "print(result)"
   ]
  }
 ],
 "metadata": {
  "kernelspec": {
   "display_name": "Python [conda env:anaconda3] *",
   "language": "python",
   "name": "conda-env-anaconda3-py"
  },
  "language_info": {
   "codemirror_mode": {
    "name": "ipython",
    "version": 3
   },
   "file_extension": ".py",
   "mimetype": "text/x-python",
   "name": "python",
   "nbconvert_exporter": "python",
   "pygments_lexer": "ipython3",
   "version": "3.12.7"
  }
 },
 "nbformat": 4,
 "nbformat_minor": 5
}
