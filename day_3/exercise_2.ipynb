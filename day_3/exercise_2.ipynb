{
 "cells": [
  {
   "cell_type": "code",
   "execution_count": 2,
   "id": "0e897cd7-352d-46cd-ba0d-90b91725f41f",
   "metadata": {},
   "outputs": [],
   "source": [
    "import numpy as np"
   ]
  },
  {
   "cell_type": "markdown",
   "id": "8ed0e999-66e7-497d-9c3b-d3f2ec39eb2d",
   "metadata": {},
   "source": [
    "a. Create a null vector of size 10 but the fifth value which is 1"
   ]
  },
  {
   "cell_type": "code",
   "execution_count": 5,
   "id": "ab2d8b2a-d01c-430c-8053-9b4514526faa",
   "metadata": {},
   "outputs": [
    {
     "name": "stdout",
     "output_type": "stream",
     "text": [
      "[0. 0. 0. 0. 1. 0. 0. 0. 0. 0.]\n"
     ]
    }
   ],
   "source": [
    "a = np.zeros(10)\n",
    "a[4] = 1\n",
    "print(a)"
   ]
  },
  {
   "cell_type": "markdown",
   "id": "2d73bc10-9bef-409a-b6db-5bb9aee38c08",
   "metadata": {},
   "source": [
    "b. Create a vector with values ranging from 10 to 49"
   ]
  },
  {
   "cell_type": "code",
   "execution_count": 8,
   "id": "2d74b15f-25d8-4296-9edc-f14fcb66f785",
   "metadata": {},
   "outputs": [
    {
     "name": "stdout",
     "output_type": "stream",
     "text": [
      "[10 11 12 13 14 15 16 17 18 19 20 21 22 23 24 25 26 27 28 29 30 31 32 33\n",
      " 34 35 36 37 38 39 40 41 42 43 44 45 46 47 48 49]\n"
     ]
    }
   ],
   "source": [
    "b = np.arange(10, 50)\n",
    "print(b)"
   ]
  },
  {
   "cell_type": "markdown",
   "id": "adfa654e-d927-474d-b8d7-fab5f571b58f",
   "metadata": {},
   "source": [
    "c. Reverse a vector (first element becomes last)"
   ]
  },
  {
   "cell_type": "code",
   "execution_count": 11,
   "id": "ce7ecdb5-6d32-4551-a6b5-e73bf8227f4c",
   "metadata": {},
   "outputs": [
    {
     "name": "stdout",
     "output_type": "stream",
     "text": [
      "Original vector is:  [0 1 2 3 4 5 6 7 8 9]\n",
      "Reversed vector is:  [9 8 7 6 5 4 3 2 1 0]\n"
     ]
    }
   ],
   "source": [
    "c = np.arange(10)\n",
    "print('Original vector is: ', c)\n",
    "c_rev = c[::-1]\n",
    "c_rev\n",
    "print('Reversed vector is: ', c_rev)"
   ]
  },
  {
   "cell_type": "markdown",
   "id": "cde059c8-655d-47bb-a179-68b51455e8ca",
   "metadata": {},
   "source": [
    "d. Create a 3x3 matrix with values ranging from 0 to 8"
   ]
  },
  {
   "cell_type": "code",
   "execution_count": 14,
   "id": "2e3ee966-f9f9-4841-ba48-2a32d258b498",
   "metadata": {},
   "outputs": [
    {
     "name": "stdout",
     "output_type": "stream",
     "text": [
      "[[0 1 2]\n",
      " [3 4 5]\n",
      " [6 7 8]]\n"
     ]
    }
   ],
   "source": [
    "d = np.arange(9)\n",
    "d = d.reshape(3,3)\n",
    "print(d)"
   ]
  },
  {
   "cell_type": "markdown",
   "id": "54ab7032-2bde-4a95-a56f-96e0031546fc",
   "metadata": {},
   "source": [
    "e. Find indices of non-zero elements from [1,2,0,0,4,0]"
   ]
  },
  {
   "cell_type": "code",
   "execution_count": 17,
   "id": "f97e2d57-47ad-462b-acba-dc86730c40e6",
   "metadata": {},
   "outputs": [
    {
     "name": "stdout",
     "output_type": "stream",
     "text": [
      "[ True  True False False  True False]\n"
     ]
    }
   ],
   "source": [
    "e = np.array([1,2,0,0,4,0])\n",
    "e_ind = e > 0\n",
    "print(e_ind)"
   ]
  },
  {
   "cell_type": "markdown",
   "id": "f2e6f46b-5d47-4901-8e84-87e23a5d156a",
   "metadata": {},
   "source": [
    "f. Create a random vector of size 30 and find the mean value"
   ]
  },
  {
   "cell_type": "code",
   "execution_count": 20,
   "id": "e91191ab-7cb0-4bbf-b7f6-afb7834bfa33",
   "metadata": {},
   "outputs": [
    {
     "name": "stdout",
     "output_type": "stream",
     "text": [
      "0.44875455427540334\n"
     ]
    }
   ],
   "source": [
    "f = np.random.random((30))\n",
    "f_mean = np.mean(f)\n",
    "print(f_mean)"
   ]
  },
  {
   "cell_type": "markdown",
   "id": "82bfa67d-3ad7-4b94-8d05-c8c43808e0e9",
   "metadata": {},
   "source": [
    "g. Create a 2d array with 1 on the border and 0 inside"
   ]
  },
  {
   "cell_type": "code",
   "execution_count": 23,
   "id": "a9ed2abc-9754-4dea-ab67-cf0bb942edc5",
   "metadata": {},
   "outputs": [
    {
     "name": "stdout",
     "output_type": "stream",
     "text": [
      "[[1 1 1 1]\n",
      " [1 0 0 1]\n",
      " [1 0 0 1]\n",
      " [1 1 1 1]]\n"
     ]
    }
   ],
   "source": [
    "g = np.zeros((4, 4),dtype=int)\n",
    "g[0,:] = 1\n",
    "g[-1,:] = 1\n",
    "g[:,0] = 1\n",
    "g[:,-1] = 1\n",
    "print(g)"
   ]
  },
  {
   "cell_type": "markdown",
   "id": "10a972f3-80fd-4541-8102-2c98c79803c8",
   "metadata": {},
   "source": [
    "h. Create a 8x8 matrix and fill it with a checkerboard pattern"
   ]
  },
  {
   "cell_type": "code",
   "execution_count": 26,
   "id": "29670d43-703c-49e1-b8a7-12d201a4d440",
   "metadata": {},
   "outputs": [
    {
     "name": "stdout",
     "output_type": "stream",
     "text": [
      "[[0 1 0 1 0 1 0 1]\n",
      " [1 0 1 0 1 0 1 0]\n",
      " [0 1 0 1 0 1 0 1]\n",
      " [1 0 1 0 1 0 1 0]\n",
      " [0 1 0 1 0 1 0 1]\n",
      " [1 0 1 0 1 0 1 0]\n",
      " [0 1 0 1 0 1 0 1]\n",
      " [1 0 1 0 1 0 1 0]]\n"
     ]
    }
   ],
   "source": [
    "h = np.zeros((8, 8),dtype=int)\n",
    "h[1::2, ::2] = 1 \n",
    "h[::2, 1::2] = 1\n",
    "print(h)"
   ]
  },
  {
   "cell_type": "markdown",
   "id": "8a083382-bcac-49f1-af63-3d40a9af24d7",
   "metadata": {},
   "source": [
    "i. Create a checkerboard 8x8 matrix using the tile function"
   ]
  },
  {
   "cell_type": "code",
   "execution_count": 29,
   "id": "917ef6e7-010f-4412-add2-8edf7751583d",
   "metadata": {},
   "outputs": [
    {
     "name": "stdout",
     "output_type": "stream",
     "text": [
      "[[0 1 0 1 0 1 0 1]\n",
      " [1 0 1 0 1 0 1 0]\n",
      " [0 1 0 1 0 1 0 1]\n",
      " [1 0 1 0 1 0 1 0]\n",
      " [0 1 0 1 0 1 0 1]\n",
      " [1 0 1 0 1 0 1 0]\n",
      " [0 1 0 1 0 1 0 1]\n",
      " [1 0 1 0 1 0 1 0]]\n"
     ]
    }
   ],
   "source": [
    "i = np.array([[0,1],[1,0]],dtype=int)\n",
    "i = np.tile(i,(4,4))\n",
    "print(i)"
   ]
  },
  {
   "cell_type": "markdown",
   "id": "7782618e-140c-46cc-9f86-9ac2803bd5a5",
   "metadata": {},
   "source": [
    "j. Given a 1D array, negate all elements which are between 3 and 8, in place"
   ]
  },
  {
   "cell_type": "code",
   "execution_count": 32,
   "id": "4cadfb1e-8e1d-42b8-8a9e-20717930158e",
   "metadata": {},
   "outputs": [
    {
     "name": "stdout",
     "output_type": "stream",
     "text": [
      "[ 0  1  2 -3 -4 -5 -6 -7 -8  9 10]\n"
     ]
    }
   ],
   "source": [
    "j = np.arange(11)\n",
    "j[3:9:1] = -j[3:9:1]\n",
    "print(j)"
   ]
  },
  {
   "cell_type": "markdown",
   "id": "a4e61f84-83fa-46b1-b1e6-c7367bd9e27c",
   "metadata": {},
   "source": [
    "k. Create a random vector of size 10 and sort it"
   ]
  },
  {
   "cell_type": "code",
   "execution_count": 35,
   "id": "77f59f31-a959-46fa-9d35-8bed160d1d0e",
   "metadata": {},
   "outputs": [
    {
     "name": "stdout",
     "output_type": "stream",
     "text": [
      "[0.22239791 0.31600646 0.63365347 0.64029194 0.66372695 0.82103969\n",
      " 0.82786403 0.9259955  0.93865657 0.96188809]\n"
     ]
    }
   ],
   "source": [
    "k = np.random.random(10)\n",
    "k = np.sort(k)\n",
    "print(k)"
   ]
  },
  {
   "cell_type": "markdown",
   "id": "bba4a8fb-46cc-4987-b953-e431f8f27457",
   "metadata": {},
   "source": [
    "l. Consider two random array A anb B, check if they are equal"
   ]
  },
  {
   "cell_type": "code",
   "execution_count": 38,
   "id": "204afad6-f3eb-4e48-9339-82f63d0122ed",
   "metadata": {},
   "outputs": [
    {
     "name": "stdout",
     "output_type": "stream",
     "text": [
      "[False  True False False  True]\n"
     ]
    }
   ],
   "source": [
    "A = np.random.randint(0,2,5)\n",
    "B = np.random.randint(0,2,5)\n",
    "equal = B == A\n",
    "print(equal)"
   ]
  },
  {
   "cell_type": "markdown",
   "id": "69975bfe-5179-4a01-9381-3026c7b7b433",
   "metadata": {},
   "source": [
    "m. How to calculate the square of every number in an array in place (without creating temporaries)?"
   ]
  },
  {
   "cell_type": "code",
   "execution_count": 41,
   "id": "512b0c3c-8d7e-4b98-bcb7-47b676fd16aa",
   "metadata": {},
   "outputs": [
    {
     "name": "stdout",
     "output_type": "stream",
     "text": [
      "int32\n",
      "[0 1 2 3 4 5 6 7 8 9]\n",
      "int32\n",
      "[ 0  1  4  9 16 25 36 49 64 81]\n"
     ]
    }
   ],
   "source": [
    "m = np.arange(10, dtype=np.int32)\n",
    "print(m.dtype)\n",
    "print(m)\n",
    "m = np.square(m)\n",
    "print(m.dtype)\n",
    "print(m)"
   ]
  },
  {
   "cell_type": "markdown",
   "id": "46f2b051-dc2b-4d56-8151-34ed9ac54ca1",
   "metadata": {},
   "source": [
    "n. How to get the diagonal of a dot product?"
   ]
  },
  {
   "cell_type": "code",
   "execution_count": 44,
   "id": "53d4f787-3ec1-4333-945c-4c46cbc366ab",
   "metadata": {},
   "outputs": [
    {
     "name": "stdout",
     "output_type": "stream",
     "text": [
      "C =  [[ 18  21  24]\n",
      " [ 54  66  78]\n",
      " [ 90 111 132]]\n",
      "Diagonal =  [ 18  66 132]\n"
     ]
    }
   ],
   "source": [
    "A = np.arange(9).reshape(3,3)\n",
    "B = A + 1\n",
    "C = np.dot(A,B)\n",
    "D = np.diagonal(C)\n",
    "print('C = ', C)\n",
    "print('Diagonal = ', D)"
   ]
  }
 ],
 "metadata": {
  "kernelspec": {
   "display_name": "Python [conda env:anaconda3] *",
   "language": "python",
   "name": "conda-env-anaconda3-py"
  },
  "language_info": {
   "codemirror_mode": {
    "name": "ipython",
    "version": 3
   },
   "file_extension": ".py",
   "mimetype": "text/x-python",
   "name": "python",
   "nbconvert_exporter": "python",
   "pygments_lexer": "ipython3",
   "version": "3.12.7"
  }
 },
 "nbformat": 4,
 "nbformat_minor": 5
}
