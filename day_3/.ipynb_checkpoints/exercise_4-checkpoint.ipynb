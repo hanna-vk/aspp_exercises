{
 "cells": [
  {
   "cell_type": "code",
   "execution_count": null,
   "id": "745d5c1d-afcd-4259-8ca5-dd3f0c06ac5d",
   "metadata": {},
   "outputs": [],
   "source": [
    "!python -m pip install mpi4py\n",
    "import os\n",
    "os.environ[\"PATH\"] += r\";C:\\Program Files\\Microsoft MPI\\Bin\""
   ]
  },
  {
   "cell_type": "markdown",
   "id": "4445c081-b3e9-4e82-85f3-80941585ab7b",
   "metadata": {},
   "source": [
    "a. Write a simple MPI script mpi_ranks.py that prints the rank of the different processes when running"
   ]
  },
  {
   "cell_type": "code",
   "execution_count": null,
   "id": "b2da5c63-8d4f-4eb3-9977-801e6948300e",
   "metadata": {},
   "outputs": [],
   "source": [
    "# mpi_ranks.py\n",
    "import mpi4py\n",
    "from mpi4py import MPI\n",
    "\n",
    "comm = MPI.COMM_WORLD\n",
    "rank = comm.Get_rank()\n",
    "size = comm.Get_size()\n",
    "\n",
    "print(f\"Hello from process {rank} out of {size}\")"
   ]
  },
  {
   "cell_type": "code",
   "execution_count": 14,
   "id": "3a9507d2-0a79-45a2-8f2f-f50b62349272",
   "metadata": {},
   "outputs": [
    {
     "name": "stdout",
     "output_type": "stream",
     "text": [
      "Hello from process 3 out of 5\n",
      "Hello from process 0 out of 5\n",
      "Hello from process 1 out of 5\n",
      "Hello from process 4 out of 5\n",
      "Hello from process 2 out of 5\n"
     ]
    }
   ],
   "source": [
    "!mpiexec -n 5 python mpi_ranks.py"
   ]
  },
  {
   "cell_type": "markdown",
   "id": "131f7e56-5567-494b-a1fe-a587eba902b1",
   "metadata": {},
   "source": [
    "b. Write a small script mpi_sum.py which calculates the sum over all ranks and prints the result from the process with rank 0."
   ]
  },
  {
   "cell_type": "code",
   "execution_count": 28,
   "id": "995e6902-c7ad-4aa0-b255-609bae497a5a",
   "metadata": {},
   "outputs": [
    {
     "name": "stdout",
     "output_type": "stream",
     "text": [
      "Hello from process 0, the sum over all ranks is 0\n"
     ]
    }
   ],
   "source": [
    "# mpi_sum.py\n",
    "import mpi4py\n",
    "from mpi4py import MPI\n",
    "\n",
    "comm = MPI.COMM_WORLD\n",
    "rank = comm.Get_rank()\n",
    "size = comm.Get_size()\n",
    "\n",
    "value = rank + 1\n",
    "total = comm.reduce(value, op=MPI.SUM, root=0)\n",
    "\n",
    "if rank == 0:\n",
    "    print(f\"Hello from process {rank}. The total sum from all {size} ranks is: {total}\")"
   ]
  },
  {
   "cell_type": "code",
   "execution_count": 40,
   "id": "97eb6d7c-9784-413a-9935-559500e10221",
   "metadata": {},
   "outputs": [
    {
     "name": "stdout",
     "output_type": "stream",
     "text": [
      "Hello from process 0. The total sum from all 5 ranks is: 15\n"
     ]
    }
   ],
   "source": [
    "!mpiexec -n 5 python mpi_sum.py"
   ]
  }
 ],
 "metadata": {
  "kernelspec": {
   "display_name": "Python [conda env:anaconda3] *",
   "language": "python",
   "name": "conda-env-anaconda3-py"
  },
  "language_info": {
   "codemirror_mode": {
    "name": "ipython",
    "version": 3
   },
   "file_extension": ".py",
   "mimetype": "text/x-python",
   "name": "python",
   "nbconvert_exporter": "python",
   "pygments_lexer": "ipython3",
   "version": "3.12.7"
  }
 },
 "nbformat": 4,
 "nbformat_minor": 5
}
