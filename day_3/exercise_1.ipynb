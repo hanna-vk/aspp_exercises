{
 "cells": [
  {
   "cell_type": "markdown",
   "id": "c30c4aa4-303c-4914-bede-8d1258835bc3",
   "metadata": {},
   "source": [
    "a. Create a \"Person\" class which takes firstname and lastname as arguments to the constructor (___init___) and define a method that returns the full name of the person as a combined string."
   ]
  },
  {
   "cell_type": "code",
   "execution_count": 1,
   "id": "6c455c1d-abe7-478d-9d42-a161511f4800",
   "metadata": {},
   "outputs": [],
   "source": [
    "class Person:\n",
    "    def __init__(self, firstname, lastname):\n",
    "        self.firstname = firstname\n",
    "        self.lastname = lastname\n",
    "    \n",
    "    def full_name(self):\n",
    "        return f\"{self.firstname} {self.lastname}\""
   ]
  },
  {
   "cell_type": "markdown",
   "id": "d25499c1-8024-48ba-83f6-849356453811",
   "metadata": {},
   "source": [
    "b. Create a \"Student\" class which inherits from the \"Person\" class, takes the subject area as an additional argument to the constructor and define a method that prints the full name and the subject area of the student."
   ]
  },
  {
   "cell_type": "code",
   "execution_count": 4,
   "id": "cb4d9cf2-7076-471c-8102-9987784b8755",
   "metadata": {},
   "outputs": [],
   "source": [
    "class Student(Person):\n",
    "    def __init__(self, firstname, lastname, subject):\n",
    "        super().__init__(firstname, lastname)\n",
    "        self.subject = subject\n",
    "    \n",
    "    def printNameSubject(self):\n",
    "        print(f\"{self.full_name()}, {self.subject}\")"
   ]
  },
  {
   "cell_type": "markdown",
   "id": "81864121-1f64-4439-bd0e-475cdb6ed229",
   "metadata": {},
   "source": [
    "c. You should be able now to use your \"Student\" class like this:"
   ]
  },
  {
   "cell_type": "code",
   "execution_count": 7,
   "id": "4833310f-cf05-452f-a7fd-06054189814f",
   "metadata": {},
   "outputs": [],
   "source": [
    "# The file classroom.py: \n",
    "#class Person:\n",
    "#    def __init__(self, firstname, lastname):\n",
    "#        self.firstname = firstname\n",
    "#        self.lastname = lastname\n",
    "    \n",
    "#    def full_name(self):\n",
    "#        return f\"{self.firstname} {self.lastname}\"\n",
    "\n",
    "#class Student(Person):\n",
    "#    def __init__(self, firstname, lastname, subject):\n",
    "#        super().__init__(firstname, lastname)\n",
    "#        self.subject = subject\n",
    "#    \n",
    "#    def printNameSubject(self):\n",
    "#        print(f\"{self.full_name()}, {self.subject}\")\n",
    "\n",
    "#if __name__ == \"__main__\":\n",
    "#    me = Student('Hanna', 'Molin', 'engineering') \n",
    "#    me.printNameSubject()"
   ]
  },
  {
   "cell_type": "code",
   "execution_count": 9,
   "id": "321c55d8-199d-4442-8329-6dea6e49601a",
   "metadata": {},
   "outputs": [
    {
     "name": "stdout",
     "output_type": "stream",
     "text": [
      "Benedikt Daurer, physics\n"
     ]
    }
   ],
   "source": [
    "import classroom\n",
    "from classroom import Student\n",
    "me = classroom.Student('Benedikt', 'Daurer', 'physics')\n",
    "me.printNameSubject()"
   ]
  }
 ],
 "metadata": {
  "kernelspec": {
   "display_name": "Python [conda env:anaconda3] *",
   "language": "python",
   "name": "conda-env-anaconda3-py"
  },
  "language_info": {
   "codemirror_mode": {
    "name": "ipython",
    "version": 3
   },
   "file_extension": ".py",
   "mimetype": "text/x-python",
   "name": "python",
   "nbconvert_exporter": "python",
   "pygments_lexer": "ipython3",
   "version": "3.12.7"
  }
 },
 "nbformat": 4,
 "nbformat_minor": 5
}
