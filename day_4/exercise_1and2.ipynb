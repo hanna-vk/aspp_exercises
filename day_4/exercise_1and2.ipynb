{
 "cells": [
  {
   "cell_type": "markdown",
   "id": "fedf5a8c-c76a-4712-b314-df451940ce5d",
   "metadata": {},
   "source": [
    "1. Testing code with py.test\n",
    "   \n",
    "a. Install pytest using e.g."
   ]
  },
  {
   "cell_type": "code",
   "execution_count": 28,
   "id": "14ca804a-50eb-4897-849c-c147e987a310",
   "metadata": {},
   "outputs": [
    {
     "name": "stdout",
     "output_type": "stream",
     "text": [
      "Requirement already satisfied: pytest in c:\\users\\hanna3167\\appdata\\local\\anaconda3\\lib\\site-packages (7.4.4)\n",
      "Requirement already satisfied: iniconfig in c:\\users\\hanna3167\\appdata\\local\\anaconda3\\lib\\site-packages (from pytest) (1.1.1)\n",
      "Requirement already satisfied: packaging in c:\\users\\hanna3167\\appdata\\local\\anaconda3\\lib\\site-packages (from pytest) (24.1)\n",
      "Requirement already satisfied: pluggy<2.0,>=0.12 in c:\\users\\hanna3167\\appdata\\local\\anaconda3\\lib\\site-packages (from pytest) (1.0.0)\n",
      "Requirement already satisfied: colorama in c:\\users\\hanna3167\\appdata\\local\\anaconda3\\lib\\site-packages (from pytest) (0.4.6)\n",
      "Note: you may need to restart the kernel to use updated packages.\n"
     ]
    }
   ],
   "source": [
    "pip install pytest --user"
   ]
  },
  {
   "cell_type": "markdown",
   "id": "e9e26009-d4dd-4aae-b712-d3bf05d66dda",
   "metadata": {},
   "source": [
    "b. Write a module test_simple_math.py which tests the correctness of the math operations inside simple_math.py.\n",
    "\n",
    "You can run the tests using the py.test command. Note that the name of your test functions should start with test_."
   ]
  },
  {
   "cell_type": "code",
   "execution_count": null,
   "id": "98b8d8d9-7547-41c2-b572-5eb0f8adc3c0",
   "metadata": {},
   "outputs": [],
   "source": [
    "# test_simple_math.py\n",
    "\"\"\"\n",
    "A test of a collection of simple math operations\n",
    "\"\"\"\n",
    "import simple_math \n",
    "from simple_math import simple_add\n",
    "from simple_math import simple_sub\n",
    "from simple_math import simple_mult\n",
    "from simple_math import simple_div\n",
    "from simple_math import poly_first\n",
    "from simple_math import poly_second\n",
    "import pytest\n",
    "\n",
    "def test_simple_add():\n",
    "    assert simple_add(1,2) == 1+2\n",
    "\n",
    "def test_simple_sub():\n",
    "    assert simple_sub(1,2) == 1-2\n",
    "\n",
    "def test_simple_mult():\n",
    "    assert simple_mult(1,2) == 1*2\n",
    "\n",
    "def test_simple_div():\n",
    "    assert simple_div(1,2) == 1/2\n",
    "\n",
    "def test_poly_first():\n",
    "    assert poly_first(1, 2, 3) == 2 + 3*1\n",
    "\n",
    "def test_poly_second():\n",
    "    assert poly_second(1, 2, 3, 4) == 2 + 3*1 + 4*(1**2)"
   ]
  },
  {
   "cell_type": "code",
   "execution_count": 37,
   "id": "bedb1660-516d-4464-a07c-6be8de840f65",
   "metadata": {},
   "outputs": [
    {
     "name": "stdout",
     "output_type": "stream",
     "text": [
      "\u001b[1m============================= test session starts =============================\u001b[0m\n",
      "platform win32 -- Python 3.12.7, pytest-7.4.4, pluggy-1.0.0\n",
      "rootdir: C:\\Users\\hanna3167\\OneDrive - IVL Svenska Miljöinstitutet AB\\Doktorandprojekt\\Kurser\\VT2025\\Advanced scientific programming with Python\\Exercises\\Day 4\n",
      "plugins: anyio-4.2.0\n",
      "collected 6 items\n",
      "\n",
      "test_simple_math.py \u001b[32m.\u001b[0m\u001b[32m.\u001b[0m\u001b[32m.\u001b[0m\u001b[32m.\u001b[0m\u001b[32m.\u001b[0m\u001b[32m.\u001b[0m\u001b[32m                                               [100%]\u001b[0m\n",
      "\n",
      "\u001b[32m============================== \u001b[32m\u001b[1m6 passed\u001b[0m\u001b[32m in 0.01s\u001b[0m\u001b[32m ==============================\u001b[0m\n"
     ]
    }
   ],
   "source": [
    "!pytest test_simple_math.py"
   ]
  },
  {
   "cell_type": "markdown",
   "id": "39f6c110-40aa-4905-a542-faec8d054568",
   "metadata": {},
   "source": [
    "2. Documenting code\n",
    "\n",
    "a. Write some meaningful docstrings for the simple_math.py module, e.g. following the numpy_doc standard."
   ]
  },
  {
   "cell_type": "code",
   "execution_count": null,
   "id": "d6755374-e310-48b3-a213-522de271eb00",
   "metadata": {},
   "outputs": [],
   "source": [
    "\"\"\"\n",
    "A collection of simple math operations:\n",
    "- simple_add for addition of two numbers a and b\n",
    "- simple_sub for subtraction of two numbers a and b\n",
    "- simple_mult for multiplication of two numbers a and b\n",
    "- simple_div for division of two numbers a and b\n",
    "- poly_first for a first degree polynomial\n",
    "- poly_second for a second degree polynomial\n",
    "\"\"\"\n",
    "\n",
    "def simple_add(a,b):\n",
    "    \"\"\"\n",
    "    Calculating the sum of two numbers a and b.\n",
    "    Parameters\n",
    "    ----------\n",
    "    a : integer\n",
    "    First number to be added.\n",
    "    -------\n",
    "    b : integer\n",
    "    Second number to be added.\n",
    "    Examples\n",
    "    --------\n",
    "    >>> simple_math.simple_add(1,1)\n",
    "    2\n",
    "    >>> simple_math.simple_add(3,2) \n",
    "    5\n",
    "    \"\"\"\n",
    "    return a+b\n",
    "\n",
    "def simple_sub(a,b):\n",
    "    \"\"\"\n",
    "    Subtracting number b from number a.\n",
    "    Parameters\n",
    "    ----------\n",
    "    a : integer\n",
    "    First number to be added.\n",
    "    -------\n",
    "    b : integer\n",
    "    Second number to be subtracted.\n",
    "    Examples\n",
    "    --------\n",
    "    >>> simple_math.simple_sub(1,1)\n",
    "    0\n",
    "    >>> simple_math.simple_sub(3,2) \n",
    "    1\n",
    "    \"\"\"    \n",
    "    return a-b\n",
    "\n",
    "def simple_mult(a,b):\n",
    "    \"\"\"\n",
    "    Multiplying a with b.\n",
    "    Parameters\n",
    "    ----------\n",
    "    a : integer\n",
    "    First number.\n",
    "    -------\n",
    "    b : integer\n",
    "    Second number.\n",
    "    Examples\n",
    "    --------\n",
    "    >>> simple_math.simple_mult(1,1)\n",
    "    1\n",
    "    >>> simple_math.simple_mult(3,2) \n",
    "    6\n",
    "    \"\"\"\n",
    "    return a*b\n",
    "\n",
    "def simple_div(a,b):\n",
    "    \"\"\"\n",
    "    Dividing a by b.\n",
    "    Parameters\n",
    "    ----------\n",
    "    a : integer\n",
    "    First number.\n",
    "    -------\n",
    "    b : integer\n",
    "    Second number.\n",
    "    Examples\n",
    "    --------\n",
    "    >>> simple_math.simple_div(1,1)\n",
    "    1\n",
    "    >>> simple_math.simple_div(3,2) \n",
    "    1.5\n",
    "    \"\"\"\n",
    "    return a/b\n",
    "\n",
    "def poly_first(x, a0, a1):\n",
    "    \"\"\"\n",
    "    Evaluating a first degree polynomial y = a0 + a1*x.\n",
    "    Parameters\n",
    "    ----------\n",
    "    a0 : integer\n",
    "    Intercept.\n",
    "    -------\n",
    "    a1 : integer\n",
    "    Gain.\n",
    "    -------\n",
    "    x : integer\n",
    "    Point of evaluation. \n",
    "    Examples\n",
    "    --------\n",
    "    >>> simple_math.poly_first(1,1,1)\n",
    "    2\n",
    "    >>> simple_math.poly_first(3,2,1) \n",
    "    5\n",
    "    \"\"\"\n",
    "    return a0 + a1*x\n",
    "\n",
    "def poly_second(x, a0, a1, a2):\n",
    "    \"\"\"\n",
    "    Evaluating a second degree polynomial y = a0 + a1*x + a2*(x^2).\n",
    "    Parameters\n",
    "    ----------\n",
    "    a0 : integer\n",
    "    Intercept.\n",
    "    -------\n",
    "    a1 : integer\n",
    "    Parameter for first degree x.\n",
    "    -------\n",
    "    a1 : integer\n",
    "    Parameter for second degree x^2.\n",
    "    -------\n",
    "    x : integer\n",
    "    Point of evaluation. \n",
    "    Examples\n",
    "    --------\n",
    "    >>> simple_math.poly_first(1,1,1)\n",
    "    2\n",
    "    >>> simple_math.poly_first(3,2,1) \n",
    "    5\n",
    "    \"\"\"\n",
    "    return poly_first(x, a0, a1) + a2*(x**2)"
   ]
  },
  {
   "cell_type": "markdown",
   "id": "52ab53a9-f88c-49d1-8159-cb82cd27469a",
   "metadata": {},
   "source": [
    "b. Create a documenation html page for the simple_math.py module using Sphinx.\n",
    "Follow the instructions from the lecture notes."
   ]
  },
  {
   "cell_type": "code",
   "execution_count": 2,
   "id": "17e3cd81-ac5d-4413-91a5-b4fc1105e414",
   "metadata": {},
   "outputs": [],
   "source": [
    "import sphinx"
   ]
  },
  {
   "cell_type": "code",
   "execution_count": 4,
   "id": "80b2c880-c638-4ff6-ad33-236404a02514",
   "metadata": {},
   "outputs": [
    {
     "name": "stderr",
     "output_type": "stream",
     "text": [
      "A subdirectory or file docs already exists.\n"
     ]
    }
   ],
   "source": [
    "mkdir docs"
   ]
  },
  {
   "cell_type": "code",
   "execution_count": 34,
   "id": "851ddd66-fb1d-47d5-978b-3acc7ee5a07f",
   "metadata": {},
   "outputs": [
    {
     "name": "stderr",
     "output_type": "stream",
     "text": [
      "A subdirectory or file docs already exists.\n"
     ]
    },
    {
     "name": "stdout",
     "output_type": "stream",
     "text": [
      "\n",
      "Error: specified path is not a directory, or sphinx files already exist.\n",
      "sphinx-quickstart only generate into a empty directory. Please specify a new root path.\n"
     ]
    }
   ],
   "source": [
    "!mkdir docs\n",
    "!sphinx-quickstart --quiet --sep \\\n",
    "  --project \"Simple math\" \\\n",
    "  --author \"Hanna Molin\" \\\n",
    "  --release \"0.1\" \\\n",
    "  --extensions \"sphinx.ext.autodoc\" \\\n",
    "  --makefile --batchfile \\\n",
    "  docs"
   ]
  },
  {
   "cell_type": "code",
   "execution_count": 36,
   "id": "6ee9240b-321a-44c5-98f9-add87f278f92",
   "metadata": {},
   "outputs": [],
   "source": [
    "import shutil\n",
    "shutil.rmtree('docs/source/.ipynb_checkpoints', ignore_errors=True)"
   ]
  },
  {
   "cell_type": "code",
   "execution_count": 38,
   "id": "7ea280b6-49a8-4b2b-b0a3-d622001b30d2",
   "metadata": {},
   "outputs": [],
   "source": [
    "!sphinx-apidoc -o docs/source . simple_math.py"
   ]
  },
  {
   "cell_type": "code",
   "execution_count": 49,
   "id": "3127f107-ebab-45d7-8496-da88ae497596",
   "metadata": {},
   "outputs": [
    {
     "name": "stdout",
     "output_type": "stream",
     "text": [
      "Running Sphinx v7.3.7\n",
      "loading pickled environment... done\n",
      "building [mo]: targets for 0 po files that are out of date\n",
      "writing output... \n",
      "building [html]: targets for 0 source files that are out of date\n",
      "updating environment: 0 added, 0 changed, 1 removed\n",
      "reading sources... \n",
      "looking for now-outdated files... none found\n",
      "no targets are out of date.\n",
      "build succeeded.\n",
      "\n",
      "The HTML pages are in docs\\build.\n"
     ]
    },
    {
     "name": "stderr",
     "output_type": "stream",
     "text": [
      "C:\\Users\\hanna3167\\AppData\\Local\\anaconda3\\Lib\\site-packages\\sphinxcontrib\\applehelp\\__init__.py:24: RemovedInSphinx80Warning: The alias 'sphinx.util.SkipProgressMessage' is deprecated, use 'sphinx.util.display.SkipProgressMessage' instead. Check CHANGES for Sphinx API modifications.\n",
      "  from sphinx.util import SkipProgressMessage, progress_message\n",
      "C:\\Users\\hanna3167\\AppData\\Local\\anaconda3\\Lib\\site-packages\\sphinxcontrib\\applehelp\\__init__.py:24: RemovedInSphinx80Warning: The alias 'sphinx.util.progress_message' is deprecated, use 'sphinx.util.display.progress_message' instead. Check CHANGES for Sphinx API modifications.\n",
      "  from sphinx.util import SkipProgressMessage, progress_message\n",
      "C:\\Users\\hanna3167\\AppData\\Local\\anaconda3\\Lib\\site-packages\\sphinxcontrib\\htmlhelp\\__init__.py:26: RemovedInSphinx80Warning: The alias 'sphinx.util.progress_message' is deprecated, use 'sphinx.util.display.progress_message' instead. Check CHANGES for Sphinx API modifications.\n",
      "  from sphinx.util import progress_message\n"
     ]
    }
   ],
   "source": [
    "!sphinx-build -b html docs/source docs/build"
   ]
  },
  {
   "cell_type": "code",
   "execution_count": null,
   "id": "dfd1d738-84b1-4868-83ad-59f47c7b436d",
   "metadata": {},
   "outputs": [],
   "source": []
  }
 ],
 "metadata": {
  "kernelspec": {
   "display_name": "Python [conda env:anaconda3] *",
   "language": "python",
   "name": "conda-env-anaconda3-py"
  },
  "language_info": {
   "codemirror_mode": {
    "name": "ipython",
    "version": 3
   },
   "file_extension": ".py",
   "mimetype": "text/x-python",
   "name": "python",
   "nbconvert_exporter": "python",
   "pygments_lexer": "ipython3",
   "version": "3.12.7"
  }
 },
 "nbformat": 4,
 "nbformat_minor": 5
}
