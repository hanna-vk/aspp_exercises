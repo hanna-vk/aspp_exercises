{
 "cells": [
  {
   "cell_type": "markdown",
   "metadata": {},
   "source": [
    "# Exercise 3 - Data visualistation with matplotlib\n"
   ]
  },
  {
   "cell_type": "code",
   "execution_count": 3,
   "metadata": {},
   "outputs": [],
   "source": [
    "import matplotlib"
   ]
  },
  {
   "cell_type": "code",
   "execution_count": 4,
   "metadata": {
    "collapsed": false,
    "jupyter": {
     "outputs_hidden": false
    }
   },
   "outputs": [],
   "source": [
    "matplotlib.use('MacOSX')"
   ]
  },
  {
   "cell_type": "code",
   "execution_count": 5,
   "metadata": {
    "collapsed": false,
    "jupyter": {
     "outputs_hidden": false
    }
   },
   "outputs": [],
   "source": [
    "%matplotlib inline"
   ]
  },
  {
   "cell_type": "code",
   "execution_count": 6,
   "metadata": {},
   "outputs": [],
   "source": [
    "import matplotlib.pyplot as plt\n",
    "import sklearn.datasets as datasets\n",
    "import numpy as np\n",
    "import random\n",
    "from scipy.stats import norm"
   ]
  },
  {
   "cell_type": "code",
   "execution_count": 21,
   "metadata": {},
   "outputs": [],
   "source": [
    "# Loading dataset\n",
    "forest = datasets.fetch_covtype()\n",
    "\n",
    "# Splitting dataset\n",
    "forest_data = forest['data']\n",
    "forest_target = forest['target']\n",
    "forest_target_names = {'Spruce/Fir',  \n",
    "                       'Lodgepole Pine', \n",
    "                       'Ponderosa Pine', \n",
    "                       'Cottonwood/Willow', \n",
    "                       'Aspen',  \n",
    "                       'Douglas-fir', \n",
    "                       'Krummholz'}\n",
    "forest_feature_names = forest['feature_names']\n",
    "\n",
    "# Retain only the quantitative features and drop the qualitative, binary ones\n",
    "forest_data_small = forest_data[:,[0,1,2,3,4,5,6,7,9]]\n",
    "# Features:\n",
    "    #'Elevation', \n",
    "    #'Aspect', \n",
    "    #'Slope', \n",
    "    #'Horizontal_Distance_To_Hydrology', \n",
    "    #'Vertical_Distance_To_Hydrology', \n",
    "    #'Horizontal_Distance_To_Roadways', \n",
    "    #'Hillshade_9am', \n",
    "    #'Hillshade_Noon', \n",
    "    #'Hillshade_3pm', \n",
    "\n",
    "# Randomly choose 1,000 points from the dataset\n",
    "rand_rows = random.sample(list(range(forest_data.shape[0])), 500)\n",
    "forest_data_small = forest_data_small[rand_rows,:]   \n",
    "forest_target_small = forest_target[rand_rows] \n",
    "forest_feature_names_small = forest_feature_names[0:9]"
   ]
  },
  {
   "cell_type": "code",
   "execution_count": 43,
   "metadata": {},
   "outputs": [
    {
     "ename": "NameError",
     "evalue": "name 'scatter' is not defined",
     "output_type": "error",
     "traceback": [
      "\u001b[1;31m---------------------------------------------------------------------------\u001b[0m",
      "\u001b[1;31mNameError\u001b[0m                                 Traceback (most recent call last)",
      "Cell \u001b[1;32mIn[43], line 14\u001b[0m\n\u001b[0;32m     11\u001b[0m ax\u001b[38;5;241m.\u001b[39mset_ylabel(forest_feature_names_small[feature2]) \n\u001b[0;32m     12\u001b[0m ax\u001b[38;5;241m.\u001b[39mset_title(\u001b[38;5;124m'\u001b[39m\u001b[38;5;124mForest cover type\u001b[39m\u001b[38;5;124m'\u001b[39m)\n\u001b[1;32m---> 14\u001b[0m handles, _ \u001b[38;5;241m=\u001b[39m scatter\u001b[38;5;241m.\u001b[39mlegend_elements(prop\u001b[38;5;241m=\u001b[39m\u001b[38;5;124m\"\u001b[39m\u001b[38;5;124mcolors\u001b[39m\u001b[38;5;124m\"\u001b[39m, alpha\u001b[38;5;241m=\u001b[39m\u001b[38;5;241m0.4\u001b[39m)\n\u001b[0;32m     15\u001b[0m legend1 \u001b[38;5;241m=\u001b[39m ax\u001b[38;5;241m.\u001b[39mlegend(handles, forest_target_names, loc\u001b[38;5;241m=\u001b[39m\u001b[38;5;124m\"\u001b[39m\u001b[38;5;124mlower right\u001b[39m\u001b[38;5;124m\"\u001b[39m)\n\u001b[0;32m     16\u001b[0m ax\u001b[38;5;241m.\u001b[39madd_artist(legend1)\n",
      "\u001b[1;31mNameError\u001b[0m: name 'scatter' is not defined"
     ]
    }
   ],
   "source": [
    "feature1 = 1\n",
    "feature2 = 7\n",
    "\n",
    "x = forest_data_small[:,feature1]\n",
    "y = forest_data_small[:,feature2]\n",
    "\n",
    "fig, ax = plt.subplots()\n",
    "ax.scatter(x,y, c=forest_target_small, alpha=0.4) \n",
    "\n",
    "ax.set_xlabel(forest_feature_names_small[feature1])\n",
    "ax.set_ylabel(forest_feature_names_small[feature2]) \n",
    "ax.set_title('Forest cover type')\n",
    "\n",
    "handles, _ = scatter.legend_elements(prop=\"colors\", alpha=0.4)\n",
    "legend1 = ax.legend(handles, forest_target_names, loc=\"lower right\")\n",
    "ax.add_artist(legend1)\n",
    "\n",
    "#ax.legend(['Spruce/Fir', 'Lodgepole Pine', 'Ponderosa Pine', 'Cottonwood/Willow', 'Aspen', 'Douglas-fir', 'Krummholz'])\n",
    "\n",
    "ax.grid(True)\n",
    "fig.tight_layout()\n",
    "\n",
    "plt.show()"
   ]
  },
  {
   "cell_type": "code",
   "execution_count": null,
   "metadata": {},
   "outputs": [],
   "source": []
  }
 ],
 "metadata": {
  "kernelspec": {
   "display_name": "Python [conda env:anaconda3] *",
   "language": "python",
   "name": "conda-env-anaconda3-py"
  },
  "language_info": {
   "codemirror_mode": {
    "name": "ipython",
    "version": 3
   },
   "file_extension": ".py",
   "mimetype": "text/x-python",
   "name": "python",
   "nbconvert_exporter": "python",
   "pygments_lexer": "ipython3",
   "version": "3.12.7"
  }
 },
 "nbformat": 4,
 "nbformat_minor": 4
}
